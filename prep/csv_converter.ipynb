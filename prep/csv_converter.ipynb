{
 "cells": [
  {
   "cell_type": "code",
   "execution_count": 1,
   "metadata": {},
   "outputs": [
    {
     "name": "stdout",
     "output_type": "stream",
     "text": [
      "JSON data has been converted to CSV successfully!\n"
     ]
    }
   ],
   "source": [
    "import json\n",
    "import pandas as pd\n",
    "\n",
    "# Sample JSON data (replace this with the path to your actual JSON file)\n",
    "with open(\"output/master_embeddings.json\",mode = \"r\") as f:\n",
    "    data = json.load(f)\n",
    " \n",
    "cleaned_data = []\n",
    "\n",
    "for item in data:\n",
    "    if item.get(\"ada_v2\"):\n",
    "        cleaned_data.append(item)\n",
    "        \n",
    "with open(\"output/clean_embeddings.json\", mode=\"w\") as f:\n",
    "    json.dump(cleaned_data, f, indent=4) "
   ]
  }
 ],
 "metadata": {
  "kernelspec": {
   "display_name": "fedfunl",
   "language": "python",
   "name": "python3"
  },
  "language_info": {
   "codemirror_mode": {
    "name": "ipython",
    "version": 3
   },
   "file_extension": ".py",
   "mimetype": "text/x-python",
   "name": "python",
   "nbconvert_exporter": "python",
   "pygments_lexer": "ipython3",
   "version": "3.10.14"
  }
 },
 "nbformat": 4,
 "nbformat_minor": 2
}
